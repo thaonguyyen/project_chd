{
  "nbformat": 4,
  "nbformat_minor": 0,
  "metadata": {
    "colab": {
      "provenance": [],
      "include_colab_link": true
    },
    "kernelspec": {
      "name": "python3",
      "display_name": "Python 3"
    },
    "language_info": {
      "name": "python"
    }
  },
  "cells": [
    {
      "cell_type": "markdown",
      "metadata": {
        "id": "view-in-github",
        "colab_type": "text"
      },
      "source": [
        "<a href=\"https://colab.research.google.com/github/thaonguyyen/project_chd/blob/main/knn.ipynb\" target=\"_parent\"><img src=\"https://colab.research.google.com/assets/colab-badge.svg\" alt=\"Open In Colab\"/></a>"
      ]
    },
    {
      "cell_type": "code",
      "execution_count": 15,
      "metadata": {
        "id": "_UeD8KojVryw"
      },
      "outputs": [],
      "source": [
        "import seaborn as sns\n",
        "import numpy as np\n",
        "import pandas as pd\n",
        "import matplotlib.pyplot as plt"
      ]
    },
    {
      "cell_type": "markdown",
      "source": [
        "Read in cleaned training and testing data"
      ],
      "metadata": {
        "id": "J4u2HoXbSsCl"
      }
    },
    {
      "cell_type": "code",
      "source": [
        "train_df = pd.read_csv(\"https://raw.githubusercontent.com/thaonguyyen/project_chd/main/cleaned_train_data.csv\")\n",
        "test_df = pd.read_csv(\"https://raw.githubusercontent.com/thaonguyyen/project_chd/main/cleaned_test_data.csv\")\n",
        "\n",
        "train_df.describe()"
      ],
      "metadata": {
        "colab": {
          "base_uri": "https://localhost:8080/",
          "height": 338
        },
        "id": "n2Ik4iIKDiBQ",
        "outputId": "61c5da88-26e1-4da2-9c0d-d361e5858f0f"
      },
      "execution_count": 16,
      "outputs": [
        {
          "output_type": "execute_result",
          "data": {
            "text/plain": [
              "       Unnamed: 0.1   Unnamed: 0          sex          age    education  \\\n",
              "count   3102.000000  3102.000000  3102.000000  3102.000000  3102.000000   \n",
              "mean    1587.049001  2129.629916     0.438104    49.598324     1.905867   \n",
              "std      918.982372  1233.694926     0.496234     8.537368     1.046872   \n",
              "min        0.000000     1.000000     0.000000    32.000000     0.000000   \n",
              "25%      791.250000  1059.250000     0.000000    42.000000     1.000000   \n",
              "50%     1588.500000  2139.500000     0.000000    49.000000     2.000000   \n",
              "75%     2383.750000  3214.750000     1.000000    56.000000     3.000000   \n",
              "max     3179.000000  4240.000000     1.000000    70.000000     4.000000   \n",
              "\n",
              "       currentSmoker   cigsPerDay       BPMeds  prevalentStroke  prevalentHyp  \\\n",
              "count    3102.000000  3102.000000  3102.000000      3102.000000   3102.000000   \n",
              "mean        0.486460     8.960993     0.029014         0.006125      0.321728   \n",
              "std         0.499897    12.006022     0.167871         0.078035      0.467215   \n",
              "min         0.000000     0.000000     0.000000         0.000000      0.000000   \n",
              "25%         0.000000     0.000000     0.000000         0.000000      0.000000   \n",
              "50%         0.000000     0.000000     0.000000         0.000000      0.000000   \n",
              "75%         1.000000    20.000000     0.000000         0.000000      1.000000   \n",
              "max         1.000000    70.000000     1.000000         1.000000      1.000000   \n",
              "\n",
              "          diabetes      totChol        sysBP        diaBP          BMI  \\\n",
              "count  3102.000000  3102.000000  3102.000000  3102.000000  3102.000000   \n",
              "mean      0.026112   236.603804   132.751612    83.136041    25.883978   \n",
              "std       0.159495    44.850722    22.340205    11.943124     4.130808   \n",
              "min       0.000000   113.000000    83.500000    50.000000    15.540000   \n",
              "25%       0.000000   205.000000   117.000000    75.000000    23.092500   \n",
              "50%       0.000000   233.000000   129.000000    82.000000    25.490000   \n",
              "75%       0.000000   262.000000   144.000000    90.000000    28.130000   \n",
              "max       1.000000   696.000000   295.000000   142.500000    56.800000   \n",
              "\n",
              "         heartRate      glucose   TenYearCHD  \n",
              "count  3102.000000  3102.000000  3102.000000  \n",
              "mean     75.894907    82.013862     0.151838  \n",
              "std      12.044684    22.440695     0.358921  \n",
              "min      44.000000    40.000000     0.000000  \n",
              "25%      68.000000    72.000000     0.000000  \n",
              "50%      75.000000    79.000000     0.000000  \n",
              "75%      83.000000    85.000000     0.000000  \n",
              "max     140.000000   394.000000     1.000000  "
            ],
            "text/html": [
              "\n",
              "  <div id=\"df-5a49c9b0-21c1-489a-a97c-707c38859e84\" class=\"colab-df-container\">\n",
              "    <div>\n",
              "<style scoped>\n",
              "    .dataframe tbody tr th:only-of-type {\n",
              "        vertical-align: middle;\n",
              "    }\n",
              "\n",
              "    .dataframe tbody tr th {\n",
              "        vertical-align: top;\n",
              "    }\n",
              "\n",
              "    .dataframe thead th {\n",
              "        text-align: right;\n",
              "    }\n",
              "</style>\n",
              "<table border=\"1\" class=\"dataframe\">\n",
              "  <thead>\n",
              "    <tr style=\"text-align: right;\">\n",
              "      <th></th>\n",
              "      <th>Unnamed: 0.1</th>\n",
              "      <th>Unnamed: 0</th>\n",
              "      <th>sex</th>\n",
              "      <th>age</th>\n",
              "      <th>education</th>\n",
              "      <th>currentSmoker</th>\n",
              "      <th>cigsPerDay</th>\n",
              "      <th>BPMeds</th>\n",
              "      <th>prevalentStroke</th>\n",
              "      <th>prevalentHyp</th>\n",
              "      <th>diabetes</th>\n",
              "      <th>totChol</th>\n",
              "      <th>sysBP</th>\n",
              "      <th>diaBP</th>\n",
              "      <th>BMI</th>\n",
              "      <th>heartRate</th>\n",
              "      <th>glucose</th>\n",
              "      <th>TenYearCHD</th>\n",
              "    </tr>\n",
              "  </thead>\n",
              "  <tbody>\n",
              "    <tr>\n",
              "      <th>count</th>\n",
              "      <td>3102.000000</td>\n",
              "      <td>3102.000000</td>\n",
              "      <td>3102.000000</td>\n",
              "      <td>3102.000000</td>\n",
              "      <td>3102.000000</td>\n",
              "      <td>3102.000000</td>\n",
              "      <td>3102.000000</td>\n",
              "      <td>3102.000000</td>\n",
              "      <td>3102.000000</td>\n",
              "      <td>3102.000000</td>\n",
              "      <td>3102.000000</td>\n",
              "      <td>3102.000000</td>\n",
              "      <td>3102.000000</td>\n",
              "      <td>3102.000000</td>\n",
              "      <td>3102.000000</td>\n",
              "      <td>3102.000000</td>\n",
              "      <td>3102.000000</td>\n",
              "      <td>3102.000000</td>\n",
              "    </tr>\n",
              "    <tr>\n",
              "      <th>mean</th>\n",
              "      <td>1587.049001</td>\n",
              "      <td>2129.629916</td>\n",
              "      <td>0.438104</td>\n",
              "      <td>49.598324</td>\n",
              "      <td>1.905867</td>\n",
              "      <td>0.486460</td>\n",
              "      <td>8.960993</td>\n",
              "      <td>0.029014</td>\n",
              "      <td>0.006125</td>\n",
              "      <td>0.321728</td>\n",
              "      <td>0.026112</td>\n",
              "      <td>236.603804</td>\n",
              "      <td>132.751612</td>\n",
              "      <td>83.136041</td>\n",
              "      <td>25.883978</td>\n",
              "      <td>75.894907</td>\n",
              "      <td>82.013862</td>\n",
              "      <td>0.151838</td>\n",
              "    </tr>\n",
              "    <tr>\n",
              "      <th>std</th>\n",
              "      <td>918.982372</td>\n",
              "      <td>1233.694926</td>\n",
              "      <td>0.496234</td>\n",
              "      <td>8.537368</td>\n",
              "      <td>1.046872</td>\n",
              "      <td>0.499897</td>\n",
              "      <td>12.006022</td>\n",
              "      <td>0.167871</td>\n",
              "      <td>0.078035</td>\n",
              "      <td>0.467215</td>\n",
              "      <td>0.159495</td>\n",
              "      <td>44.850722</td>\n",
              "      <td>22.340205</td>\n",
              "      <td>11.943124</td>\n",
              "      <td>4.130808</td>\n",
              "      <td>12.044684</td>\n",
              "      <td>22.440695</td>\n",
              "      <td>0.358921</td>\n",
              "    </tr>\n",
              "    <tr>\n",
              "      <th>min</th>\n",
              "      <td>0.000000</td>\n",
              "      <td>1.000000</td>\n",
              "      <td>0.000000</td>\n",
              "      <td>32.000000</td>\n",
              "      <td>0.000000</td>\n",
              "      <td>0.000000</td>\n",
              "      <td>0.000000</td>\n",
              "      <td>0.000000</td>\n",
              "      <td>0.000000</td>\n",
              "      <td>0.000000</td>\n",
              "      <td>0.000000</td>\n",
              "      <td>113.000000</td>\n",
              "      <td>83.500000</td>\n",
              "      <td>50.000000</td>\n",
              "      <td>15.540000</td>\n",
              "      <td>44.000000</td>\n",
              "      <td>40.000000</td>\n",
              "      <td>0.000000</td>\n",
              "    </tr>\n",
              "    <tr>\n",
              "      <th>25%</th>\n",
              "      <td>791.250000</td>\n",
              "      <td>1059.250000</td>\n",
              "      <td>0.000000</td>\n",
              "      <td>42.000000</td>\n",
              "      <td>1.000000</td>\n",
              "      <td>0.000000</td>\n",
              "      <td>0.000000</td>\n",
              "      <td>0.000000</td>\n",
              "      <td>0.000000</td>\n",
              "      <td>0.000000</td>\n",
              "      <td>0.000000</td>\n",
              "      <td>205.000000</td>\n",
              "      <td>117.000000</td>\n",
              "      <td>75.000000</td>\n",
              "      <td>23.092500</td>\n",
              "      <td>68.000000</td>\n",
              "      <td>72.000000</td>\n",
              "      <td>0.000000</td>\n",
              "    </tr>\n",
              "    <tr>\n",
              "      <th>50%</th>\n",
              "      <td>1588.500000</td>\n",
              "      <td>2139.500000</td>\n",
              "      <td>0.000000</td>\n",
              "      <td>49.000000</td>\n",
              "      <td>2.000000</td>\n",
              "      <td>0.000000</td>\n",
              "      <td>0.000000</td>\n",
              "      <td>0.000000</td>\n",
              "      <td>0.000000</td>\n",
              "      <td>0.000000</td>\n",
              "      <td>0.000000</td>\n",
              "      <td>233.000000</td>\n",
              "      <td>129.000000</td>\n",
              "      <td>82.000000</td>\n",
              "      <td>25.490000</td>\n",
              "      <td>75.000000</td>\n",
              "      <td>79.000000</td>\n",
              "      <td>0.000000</td>\n",
              "    </tr>\n",
              "    <tr>\n",
              "      <th>75%</th>\n",
              "      <td>2383.750000</td>\n",
              "      <td>3214.750000</td>\n",
              "      <td>1.000000</td>\n",
              "      <td>56.000000</td>\n",
              "      <td>3.000000</td>\n",
              "      <td>1.000000</td>\n",
              "      <td>20.000000</td>\n",
              "      <td>0.000000</td>\n",
              "      <td>0.000000</td>\n",
              "      <td>1.000000</td>\n",
              "      <td>0.000000</td>\n",
              "      <td>262.000000</td>\n",
              "      <td>144.000000</td>\n",
              "      <td>90.000000</td>\n",
              "      <td>28.130000</td>\n",
              "      <td>83.000000</td>\n",
              "      <td>85.000000</td>\n",
              "      <td>0.000000</td>\n",
              "    </tr>\n",
              "    <tr>\n",
              "      <th>max</th>\n",
              "      <td>3179.000000</td>\n",
              "      <td>4240.000000</td>\n",
              "      <td>1.000000</td>\n",
              "      <td>70.000000</td>\n",
              "      <td>4.000000</td>\n",
              "      <td>1.000000</td>\n",
              "      <td>70.000000</td>\n",
              "      <td>1.000000</td>\n",
              "      <td>1.000000</td>\n",
              "      <td>1.000000</td>\n",
              "      <td>1.000000</td>\n",
              "      <td>696.000000</td>\n",
              "      <td>295.000000</td>\n",
              "      <td>142.500000</td>\n",
              "      <td>56.800000</td>\n",
              "      <td>140.000000</td>\n",
              "      <td>394.000000</td>\n",
              "      <td>1.000000</td>\n",
              "    </tr>\n",
              "  </tbody>\n",
              "</table>\n",
              "</div>\n",
              "    <div class=\"colab-df-buttons\">\n",
              "\n",
              "  <div class=\"colab-df-container\">\n",
              "    <button class=\"colab-df-convert\" onclick=\"convertToInteractive('df-5a49c9b0-21c1-489a-a97c-707c38859e84')\"\n",
              "            title=\"Convert this dataframe to an interactive table.\"\n",
              "            style=\"display:none;\">\n",
              "\n",
              "  <svg xmlns=\"http://www.w3.org/2000/svg\" height=\"24px\" viewBox=\"0 -960 960 960\">\n",
              "    <path d=\"M120-120v-720h720v720H120Zm60-500h600v-160H180v160Zm220 220h160v-160H400v160Zm0 220h160v-160H400v160ZM180-400h160v-160H180v160Zm440 0h160v-160H620v160ZM180-180h160v-160H180v160Zm440 0h160v-160H620v160Z\"/>\n",
              "  </svg>\n",
              "    </button>\n",
              "\n",
              "  <style>\n",
              "    .colab-df-container {\n",
              "      display:flex;\n",
              "      gap: 12px;\n",
              "    }\n",
              "\n",
              "    .colab-df-convert {\n",
              "      background-color: #E8F0FE;\n",
              "      border: none;\n",
              "      border-radius: 50%;\n",
              "      cursor: pointer;\n",
              "      display: none;\n",
              "      fill: #1967D2;\n",
              "      height: 32px;\n",
              "      padding: 0 0 0 0;\n",
              "      width: 32px;\n",
              "    }\n",
              "\n",
              "    .colab-df-convert:hover {\n",
              "      background-color: #E2EBFA;\n",
              "      box-shadow: 0px 1px 2px rgba(60, 64, 67, 0.3), 0px 1px 3px 1px rgba(60, 64, 67, 0.15);\n",
              "      fill: #174EA6;\n",
              "    }\n",
              "\n",
              "    .colab-df-buttons div {\n",
              "      margin-bottom: 4px;\n",
              "    }\n",
              "\n",
              "    [theme=dark] .colab-df-convert {\n",
              "      background-color: #3B4455;\n",
              "      fill: #D2E3FC;\n",
              "    }\n",
              "\n",
              "    [theme=dark] .colab-df-convert:hover {\n",
              "      background-color: #434B5C;\n",
              "      box-shadow: 0px 1px 3px 1px rgba(0, 0, 0, 0.15);\n",
              "      filter: drop-shadow(0px 1px 2px rgba(0, 0, 0, 0.3));\n",
              "      fill: #FFFFFF;\n",
              "    }\n",
              "  </style>\n",
              "\n",
              "    <script>\n",
              "      const buttonEl =\n",
              "        document.querySelector('#df-5a49c9b0-21c1-489a-a97c-707c38859e84 button.colab-df-convert');\n",
              "      buttonEl.style.display =\n",
              "        google.colab.kernel.accessAllowed ? 'block' : 'none';\n",
              "\n",
              "      async function convertToInteractive(key) {\n",
              "        const element = document.querySelector('#df-5a49c9b0-21c1-489a-a97c-707c38859e84');\n",
              "        const dataTable =\n",
              "          await google.colab.kernel.invokeFunction('convertToInteractive',\n",
              "                                                    [key], {});\n",
              "        if (!dataTable) return;\n",
              "\n",
              "        const docLinkHtml = 'Like what you see? Visit the ' +\n",
              "          '<a target=\"_blank\" href=https://colab.research.google.com/notebooks/data_table.ipynb>data table notebook</a>'\n",
              "          + ' to learn more about interactive tables.';\n",
              "        element.innerHTML = '';\n",
              "        dataTable['output_type'] = 'display_data';\n",
              "        await google.colab.output.renderOutput(dataTable, element);\n",
              "        const docLink = document.createElement('div');\n",
              "        docLink.innerHTML = docLinkHtml;\n",
              "        element.appendChild(docLink);\n",
              "      }\n",
              "    </script>\n",
              "  </div>\n",
              "\n",
              "\n",
              "<div id=\"df-e684afdc-c507-4af7-b59e-7243d3ae29fc\">\n",
              "  <button class=\"colab-df-quickchart\" onclick=\"quickchart('df-e684afdc-c507-4af7-b59e-7243d3ae29fc')\"\n",
              "            title=\"Suggest charts\"\n",
              "            style=\"display:none;\">\n",
              "\n",
              "<svg xmlns=\"http://www.w3.org/2000/svg\" height=\"24px\"viewBox=\"0 0 24 24\"\n",
              "     width=\"24px\">\n",
              "    <g>\n",
              "        <path d=\"M19 3H5c-1.1 0-2 .9-2 2v14c0 1.1.9 2 2 2h14c1.1 0 2-.9 2-2V5c0-1.1-.9-2-2-2zM9 17H7v-7h2v7zm4 0h-2V7h2v10zm4 0h-2v-4h2v4z\"/>\n",
              "    </g>\n",
              "</svg>\n",
              "  </button>\n",
              "\n",
              "<style>\n",
              "  .colab-df-quickchart {\n",
              "      --bg-color: #E8F0FE;\n",
              "      --fill-color: #1967D2;\n",
              "      --hover-bg-color: #E2EBFA;\n",
              "      --hover-fill-color: #174EA6;\n",
              "      --disabled-fill-color: #AAA;\n",
              "      --disabled-bg-color: #DDD;\n",
              "  }\n",
              "\n",
              "  [theme=dark] .colab-df-quickchart {\n",
              "      --bg-color: #3B4455;\n",
              "      --fill-color: #D2E3FC;\n",
              "      --hover-bg-color: #434B5C;\n",
              "      --hover-fill-color: #FFFFFF;\n",
              "      --disabled-bg-color: #3B4455;\n",
              "      --disabled-fill-color: #666;\n",
              "  }\n",
              "\n",
              "  .colab-df-quickchart {\n",
              "    background-color: var(--bg-color);\n",
              "    border: none;\n",
              "    border-radius: 50%;\n",
              "    cursor: pointer;\n",
              "    display: none;\n",
              "    fill: var(--fill-color);\n",
              "    height: 32px;\n",
              "    padding: 0;\n",
              "    width: 32px;\n",
              "  }\n",
              "\n",
              "  .colab-df-quickchart:hover {\n",
              "    background-color: var(--hover-bg-color);\n",
              "    box-shadow: 0 1px 2px rgba(60, 64, 67, 0.3), 0 1px 3px 1px rgba(60, 64, 67, 0.15);\n",
              "    fill: var(--button-hover-fill-color);\n",
              "  }\n",
              "\n",
              "  .colab-df-quickchart-complete:disabled,\n",
              "  .colab-df-quickchart-complete:disabled:hover {\n",
              "    background-color: var(--disabled-bg-color);\n",
              "    fill: var(--disabled-fill-color);\n",
              "    box-shadow: none;\n",
              "  }\n",
              "\n",
              "  .colab-df-spinner {\n",
              "    border: 2px solid var(--fill-color);\n",
              "    border-color: transparent;\n",
              "    border-bottom-color: var(--fill-color);\n",
              "    animation:\n",
              "      spin 1s steps(1) infinite;\n",
              "  }\n",
              "\n",
              "  @keyframes spin {\n",
              "    0% {\n",
              "      border-color: transparent;\n",
              "      border-bottom-color: var(--fill-color);\n",
              "      border-left-color: var(--fill-color);\n",
              "    }\n",
              "    20% {\n",
              "      border-color: transparent;\n",
              "      border-left-color: var(--fill-color);\n",
              "      border-top-color: var(--fill-color);\n",
              "    }\n",
              "    30% {\n",
              "      border-color: transparent;\n",
              "      border-left-color: var(--fill-color);\n",
              "      border-top-color: var(--fill-color);\n",
              "      border-right-color: var(--fill-color);\n",
              "    }\n",
              "    40% {\n",
              "      border-color: transparent;\n",
              "      border-right-color: var(--fill-color);\n",
              "      border-top-color: var(--fill-color);\n",
              "    }\n",
              "    60% {\n",
              "      border-color: transparent;\n",
              "      border-right-color: var(--fill-color);\n",
              "    }\n",
              "    80% {\n",
              "      border-color: transparent;\n",
              "      border-right-color: var(--fill-color);\n",
              "      border-bottom-color: var(--fill-color);\n",
              "    }\n",
              "    90% {\n",
              "      border-color: transparent;\n",
              "      border-bottom-color: var(--fill-color);\n",
              "    }\n",
              "  }\n",
              "</style>\n",
              "\n",
              "  <script>\n",
              "    async function quickchart(key) {\n",
              "      const quickchartButtonEl =\n",
              "        document.querySelector('#' + key + ' button');\n",
              "      quickchartButtonEl.disabled = true;  // To prevent multiple clicks.\n",
              "      quickchartButtonEl.classList.add('colab-df-spinner');\n",
              "      try {\n",
              "        const charts = await google.colab.kernel.invokeFunction(\n",
              "            'suggestCharts', [key], {});\n",
              "      } catch (error) {\n",
              "        console.error('Error during call to suggestCharts:', error);\n",
              "      }\n",
              "      quickchartButtonEl.classList.remove('colab-df-spinner');\n",
              "      quickchartButtonEl.classList.add('colab-df-quickchart-complete');\n",
              "    }\n",
              "    (() => {\n",
              "      let quickchartButtonEl =\n",
              "        document.querySelector('#df-e684afdc-c507-4af7-b59e-7243d3ae29fc button');\n",
              "      quickchartButtonEl.style.display =\n",
              "        google.colab.kernel.accessAllowed ? 'block' : 'none';\n",
              "    })();\n",
              "  </script>\n",
              "</div>\n",
              "    </div>\n",
              "  </div>\n"
            ],
            "application/vnd.google.colaboratory.intrinsic+json": {
              "type": "dataframe",
              "summary": "{\n  \"name\": \"train_df\",\n  \"rows\": 8,\n  \"fields\": [\n    {\n      \"column\": \"Unnamed: 0.1\",\n      \"properties\": {\n        \"dtype\": \"number\",\n        \"std\": 1132.081423460978,\n        \"min\": 0.0,\n        \"max\": 3179.0,\n        \"num_unique_values\": 8,\n        \"samples\": [\n          1587.0490006447453,\n          1588.5,\n          3102.0\n        ],\n        \"semantic_type\": \"\",\n        \"description\": \"\"\n      }\n    },\n    {\n      \"column\": \"Unnamed: 0\",\n      \"properties\": {\n        \"dtype\": \"number\",\n        \"std\": 1365.6693699978707,\n        \"min\": 1.0,\n        \"max\": 4240.0,\n        \"num_unique_values\": 8,\n        \"samples\": [\n          2129.6299161831075,\n          2139.5,\n          3102.0\n        ],\n        \"semantic_type\": \"\",\n        \"description\": \"\"\n      }\n    },\n    {\n      \"column\": \"sex\",\n      \"properties\": {\n        \"dtype\": \"number\",\n        \"std\": 1096.574489835977,\n        \"min\": 0.0,\n        \"max\": 3102.0,\n        \"num_unique_values\": 5,\n        \"samples\": [\n          0.4381044487427466,\n          1.0,\n          0.49623414278204125\n        ],\n        \"semantic_type\": \"\",\n        \"description\": \"\"\n      }\n    },\n    {\n      \"column\": \"age\",\n      \"properties\": {\n        \"dtype\": \"number\",\n        \"std\": 1081.3606580736086,\n        \"min\": 8.53736804328074,\n        \"max\": 3102.0,\n        \"num_unique_values\": 8,\n        \"samples\": [\n          49.59832366215345,\n          49.0,\n          3102.0\n        ],\n        \"semantic_type\": \"\",\n        \"description\": \"\"\n      }\n    },\n    {\n      \"column\": \"education\",\n      \"properties\": {\n        \"dtype\": \"number\",\n        \"std\": 1096.0691067450525,\n        \"min\": 0.0,\n        \"max\": 3102.0,\n        \"num_unique_values\": 8,\n        \"samples\": [\n          1.9058671824629272,\n          2.0,\n          3102.0\n        ],\n        \"semantic_type\": \"\",\n        \"description\": \"\"\n      }\n    },\n    {\n      \"column\": \"currentSmoker\",\n      \"properties\": {\n        \"dtype\": \"number\",\n        \"std\": 1096.5718627646336,\n        \"min\": 0.0,\n        \"max\": 3102.0,\n        \"num_unique_values\": 5,\n        \"samples\": [\n          0.4864603481624758,\n          1.0,\n          0.4998972273038884\n        ],\n        \"semantic_type\": \"\",\n        \"description\": \"\"\n      }\n    },\n    {\n      \"column\": \"cigsPerDay\",\n      \"properties\": {\n        \"dtype\": \"number\",\n        \"std\": 1091.36440256093,\n        \"min\": 0.0,\n        \"max\": 3102.0,\n        \"num_unique_values\": 6,\n        \"samples\": [\n          3102.0,\n          8.960992907801419,\n          70.0\n        ],\n        \"semantic_type\": \"\",\n        \"description\": \"\"\n      }\n    },\n    {\n      \"column\": \"BPMeds\",\n      \"properties\": {\n        \"dtype\": \"number\",\n        \"std\": 1096.6622194909276,\n        \"min\": 0.0,\n        \"max\": 3102.0,\n        \"num_unique_values\": 5,\n        \"samples\": [\n          0.029013539651837523,\n          1.0,\n          0.16787149520030228\n        ],\n        \"semantic_type\": \"\",\n        \"description\": \"\"\n      }\n    },\n    {\n      \"column\": \"prevalentStroke\",\n      \"properties\": {\n        \"dtype\": \"number\",\n        \"std\": 1096.667913840559,\n        \"min\": 0.0,\n        \"max\": 3102.0,\n        \"num_unique_values\": 5,\n        \"samples\": [\n          0.0061250805931656995,\n          1.0,\n          0.07803542194383412\n        ],\n        \"semantic_type\": \"\",\n        \"description\": \"\"\n      }\n    },\n    {\n      \"column\": \"prevalentHyp\",\n      \"properties\": {\n        \"dtype\": \"number\",\n        \"std\": 1096.5818336110392,\n        \"min\": 0.0,\n        \"max\": 3102.0,\n        \"num_unique_values\": 5,\n        \"samples\": [\n          0.3217279174725983,\n          1.0,\n          0.46721454936443213\n        ],\n        \"semantic_type\": \"\",\n        \"description\": \"\"\n      }\n    },\n    {\n      \"column\": \"diabetes\",\n      \"properties\": {\n        \"dtype\": \"number\",\n        \"std\": 1096.6627891874807,\n        \"min\": 0.0,\n        \"max\": 3102.0,\n        \"num_unique_values\": 5,\n        \"samples\": [\n          0.02611218568665377,\n          1.0,\n          0.15949463983231718\n        ],\n        \"semantic_type\": \"\",\n        \"description\": \"\"\n      }\n    },\n    {\n      \"column\": \"totChol\",\n      \"properties\": {\n        \"dtype\": \"number\",\n        \"std\": 1024.7317444325458,\n        \"min\": 44.850721891046106,\n        \"max\": 3102.0,\n        \"num_unique_values\": 8,\n        \"samples\": [\n          236.603803997421,\n          233.0,\n          3102.0\n        ],\n        \"semantic_type\": \"\",\n        \"description\": \"\"\n      }\n    },\n    {\n      \"column\": \"sysBP\",\n      \"properties\": {\n        \"dtype\": \"number\",\n        \"std\": 1052.8814639915147,\n        \"min\": 22.340205201444736,\n        \"max\": 3102.0,\n        \"num_unique_values\": 8,\n        \"samples\": [\n          132.751611863314,\n          129.0,\n          3102.0\n        ],\n        \"semantic_type\": \"\",\n        \"description\": \"\"\n      }\n    },\n    {\n      \"column\": \"diaBP\",\n      \"properties\": {\n        \"dtype\": \"number\",\n        \"std\": 1070.3554140317974,\n        \"min\": 11.943123981771246,\n        \"max\": 3102.0,\n        \"num_unique_values\": 8,\n        \"samples\": [\n          83.13604126370083,\n          82.0,\n          3102.0\n        ],\n        \"semantic_type\": \"\",\n        \"description\": \"\"\n      }\n    },\n    {\n      \"column\": \"BMI\",\n      \"properties\": {\n        \"dtype\": \"number\",\n        \"std\": 1087.7800302264518,\n        \"min\": 4.130807955654401,\n        \"max\": 3102.0,\n        \"num_unique_values\": 8,\n        \"samples\": [\n          25.88397807865893,\n          25.49,\n          3102.0\n        ],\n        \"semantic_type\": \"\",\n        \"description\": \"\"\n      }\n    },\n    {\n      \"column\": \"heartRate\",\n      \"properties\": {\n        \"dtype\": \"number\",\n        \"std\": 1072.1831852743899,\n        \"min\": 12.044683810774949,\n        \"max\": 3102.0,\n        \"num_unique_values\": 8,\n        \"samples\": [\n          75.89490651192779,\n          75.0,\n          3102.0\n        ],\n        \"semantic_type\": \"\",\n        \"description\": \"\"\n      }\n    },\n    {\n      \"column\": \"glucose\",\n      \"properties\": {\n        \"dtype\": \"number\",\n        \"std\": 1064.1399858915531,\n        \"min\": 22.440694739062742,\n        \"max\": 3102.0,\n        \"num_unique_values\": 8,\n        \"samples\": [\n          82.01386202450033,\n          79.0,\n          3102.0\n        ],\n        \"semantic_type\": \"\",\n        \"description\": \"\"\n      }\n    },\n    {\n      \"column\": \"TenYearCHD\",\n      \"properties\": {\n        \"dtype\": \"number\",\n        \"std\": 1096.6463665712852,\n        \"min\": 0.0,\n        \"max\": 3102.0,\n        \"num_unique_values\": 5,\n        \"samples\": [\n          0.1518375241779497,\n          1.0,\n          0.35892118898267494\n        ],\n        \"semantic_type\": \"\",\n        \"description\": \"\"\n      }\n    }\n  ]\n}"
            }
          },
          "metadata": {},
          "execution_count": 16
        }
      ]
    },
    {
      "cell_type": "markdown",
      "source": [
        "Using k-nearest-neighbor model\n",
        "\n",
        "\n"
      ],
      "metadata": {
        "id": "SQ6Zh_p5XEOR"
      }
    },
    {
      "cell_type": "code",
      "source": [
        "from sklearn.neighbors import KNeighborsClassifier\n",
        "\n",
        "X_train = train_df.drop(\"TenYearCHD\", axis=1)\n",
        "X_test = test_df.drop(\"TenYearCHD\", axis=1)\n",
        "y_train = train_df[\"TenYearCHD\"]\n",
        "y_test = test_df[\"TenYearCHD\"]\n",
        "\n",
        "N_train = len(y_train)\n",
        "N_test = len(y_test)\n",
        "\n",
        "k_test = np.arange(1,150)\n",
        "Acc = np.zeros(150)\n",
        "\n",
        "for k in range(150):\n",
        "    fitted_model = KNeighborsClassifier(n_neighbors=k+1).fit(X_train.values, y_train)\n",
        "    y_hat = fitted_model.predict(X_test.values) # Predict values for test set\n",
        "    Acc[k] = np.sum( y_hat == y_test )/N_test # Accuracy on testing data\n",
        "\n",
        "# Acc_max = np.max(Acc) # Find highest recorded Accuracy\n",
        "# max_index = np.where(Acc==Acc_max) # Find the indices that equal the maximum\n",
        "# k_star = max_index[0]+1 # Find the optimal value of k; why index+1?\n",
        "# print(k_star)\n",
        "Acc_max = np.max(Acc)\n",
        "print(\"The highest recorded accuracy is: \", Acc_max)\n",
        "max_index = np.where(Acc == Acc_max)[0]\n",
        "k_star = max_index[0] + 1\n",
        "print(\"The optimal k-value is:\", k_star)"
      ],
      "metadata": {
        "colab": {
          "base_uri": "https://localhost:8080/"
        },
        "id": "qRpE8AnUaEsc",
        "outputId": "eab3e99e-b9c5-406d-c50c-5d522da5342b"
      },
      "execution_count": 17,
      "outputs": [
        {
          "output_type": "stream",
          "name": "stdout",
          "text": [
            "The highest recorded accuracy is:  0.8548076923076923\n",
            "The optimal k-value is: 6\n"
          ]
        }
      ]
    },
    {
      "cell_type": "code",
      "source": [
        "model = KNeighborsClassifier(n_neighbors=6).fit(X_train.values, y_train)\n",
        "y_hat = model.predict(X_test.values)"
      ],
      "metadata": {
        "id": "aIZtHsmBnIgw"
      },
      "execution_count": 18,
      "outputs": []
    },
    {
      "cell_type": "code",
      "source": [
        "# from sklearn.metrics import r2_score\n",
        "# r2 = r2_score(y_test, y_hat)\n",
        "# print(f\"R^2 Score: {r2}\")\n",
        "\n",
        "# from sklearn.metrics import accuracy_score\n",
        "# accuracy = accuracy_score(y_test, y_hat)\n",
        "# print(\"Accuracy:\", accuracy)\n",
        "\n",
        "accuracy = np.sum( y_hat == y_test )/N_test\n",
        "print(\"The highest recorded accuracy is: \", accuracy)"
      ],
      "metadata": {
        "colab": {
          "base_uri": "https://localhost:8080/"
        },
        "id": "D1-1Ow-fmywf",
        "outputId": "9057721b-1f2f-411c-9c23-658c9f40b38d"
      },
      "execution_count": 19,
      "outputs": [
        {
          "output_type": "stream",
          "name": "stdout",
          "text": [
            "The highest recorded accuracy is:  0.8548076923076923\n"
          ]
        }
      ]
    },
    {
      "cell_type": "code",
      "source": [
        "from sklearn.metrics import accuracy_score, confusion_matrix\n",
        "\n",
        "accuracy = accuracy_score(y_test, y_hat)\n",
        "conf_matrix = confusion_matrix(y_test, y_hat)\n",
        "\n",
        "print(f\"Accuracy: {accuracy}\")\n",
        "print(f\"Confusion Matrix:\\n{conf_matrix}\")\n"
      ],
      "metadata": {
        "colab": {
          "base_uri": "https://localhost:8080/"
        },
        "id": "Tx6kFfqWzyN4",
        "outputId": "55a3dcd2-02a9-435e-bea3-3bdf4bcfb07a"
      },
      "execution_count": 20,
      "outputs": [
        {
          "output_type": "stream",
          "name": "stdout",
          "text": [
            "Accuracy: 0.8548076923076923\n",
            "Confusion Matrix:\n",
            "[[889   0]\n",
            " [151   0]]\n"
          ]
        }
      ]
    },
    {
      "cell_type": "code",
      "source": [
        "def maxmin(x):\n",
        "    u = (x-min(x))/(max(x)-min(x))\n",
        "    return u\n",
        "X_maxmin_train = train_df.apply(maxmin)\n",
        "X_maxmin_test = test_df.apply(maxmin)"
      ],
      "metadata": {
        "id": "X9EvnMITnsLJ"
      },
      "execution_count": 21,
      "outputs": []
    },
    {
      "cell_type": "code",
      "source": [
        "def performance(y_test,y_hat): # Sample code to compute classifier performance\n",
        "    tab = pd.crosstab(np.array(y_hat),np.array(y_test)) # Compute confusion matrix\n",
        "    #\n",
        "    # Get entries from the confusion matrix:\n",
        "    tp = tab.iloc[0,0]\n",
        "    tn = tab.iloc[1,1]\n",
        "    fp = tab.iloc[0,1]\n",
        "    fn = tab.iloc[1,0]\n",
        "    tot = tp+tn+fp+fn\n",
        "    #\n",
        "    # Compute performance statistics:\n",
        "    acc = (tp+tn)/tot\n",
        "    spec = tn/(tp+fn)\n",
        "    sens = tp/(tp+fn)\n",
        "    mcc = (tp*tn-fp*fn)/np.sqrt((tp+fp)*(tp+fn)*(tn+fp)*(tn+fn))\n",
        "    #\n",
        "    # Return a dictionary including the confusion matrix and metrics:\n",
        "    return({'confusion_matrix':tab,\n",
        "            'accuracy':acc,\n",
        "            'specificity':spec,\n",
        "            'sensitivity':sens,\n",
        "            'mcc':mcc})\n",
        "\n",
        "print(performance(y_test, y_hat))"
      ],
      "metadata": {
        "id": "WwxdRCP98qvn",
        "outputId": "e36c2c42-9631-42b3-b7dc-35d5d3b1b688",
        "colab": {
          "base_uri": "https://localhost:8080/",
          "height": 329
        }
      },
      "execution_count": 22,
      "outputs": [
        {
          "output_type": "error",
          "ename": "IndexError",
          "evalue": "index 1 is out of bounds for axis 0 with size 1",
          "traceback": [
            "\u001b[0;31m---------------------------------------------------------------------------\u001b[0m",
            "\u001b[0;31mIndexError\u001b[0m                                Traceback (most recent call last)",
            "\u001b[0;32m<ipython-input-22-da586b37ffc9>\u001b[0m in \u001b[0;36m<cell line: 24>\u001b[0;34m()\u001b[0m\n\u001b[1;32m     22\u001b[0m             'mcc':mcc})\n\u001b[1;32m     23\u001b[0m \u001b[0;34m\u001b[0m\u001b[0m\n\u001b[0;32m---> 24\u001b[0;31m \u001b[0mprint\u001b[0m\u001b[0;34m(\u001b[0m\u001b[0mperformance\u001b[0m\u001b[0;34m(\u001b[0m\u001b[0my_test\u001b[0m\u001b[0;34m,\u001b[0m \u001b[0my_hat\u001b[0m\u001b[0;34m)\u001b[0m\u001b[0;34m)\u001b[0m\u001b[0;34m\u001b[0m\u001b[0;34m\u001b[0m\u001b[0m\n\u001b[0m",
            "\u001b[0;32m<ipython-input-22-da586b37ffc9>\u001b[0m in \u001b[0;36mperformance\u001b[0;34m(y_test, y_hat)\u001b[0m\n\u001b[1;32m      4\u001b[0m     \u001b[0;31m# Get entries from the confusion matrix:\u001b[0m\u001b[0;34m\u001b[0m\u001b[0;34m\u001b[0m\u001b[0m\n\u001b[1;32m      5\u001b[0m     \u001b[0mtp\u001b[0m \u001b[0;34m=\u001b[0m \u001b[0mtab\u001b[0m\u001b[0;34m.\u001b[0m\u001b[0miloc\u001b[0m\u001b[0;34m[\u001b[0m\u001b[0;36m0\u001b[0m\u001b[0;34m,\u001b[0m\u001b[0;36m0\u001b[0m\u001b[0;34m]\u001b[0m\u001b[0;34m\u001b[0m\u001b[0;34m\u001b[0m\u001b[0m\n\u001b[0;32m----> 6\u001b[0;31m     \u001b[0mtn\u001b[0m \u001b[0;34m=\u001b[0m \u001b[0mtab\u001b[0m\u001b[0;34m.\u001b[0m\u001b[0miloc\u001b[0m\u001b[0;34m[\u001b[0m\u001b[0;36m1\u001b[0m\u001b[0;34m,\u001b[0m\u001b[0;36m1\u001b[0m\u001b[0;34m]\u001b[0m\u001b[0;34m\u001b[0m\u001b[0;34m\u001b[0m\u001b[0m\n\u001b[0m\u001b[1;32m      7\u001b[0m     \u001b[0mfp\u001b[0m \u001b[0;34m=\u001b[0m \u001b[0mtab\u001b[0m\u001b[0;34m.\u001b[0m\u001b[0miloc\u001b[0m\u001b[0;34m[\u001b[0m\u001b[0;36m0\u001b[0m\u001b[0;34m,\u001b[0m\u001b[0;36m1\u001b[0m\u001b[0;34m]\u001b[0m\u001b[0;34m\u001b[0m\u001b[0;34m\u001b[0m\u001b[0m\n\u001b[1;32m      8\u001b[0m     \u001b[0mfn\u001b[0m \u001b[0;34m=\u001b[0m \u001b[0mtab\u001b[0m\u001b[0;34m.\u001b[0m\u001b[0miloc\u001b[0m\u001b[0;34m[\u001b[0m\u001b[0;36m1\u001b[0m\u001b[0;34m,\u001b[0m\u001b[0;36m0\u001b[0m\u001b[0;34m]\u001b[0m\u001b[0;34m\u001b[0m\u001b[0;34m\u001b[0m\u001b[0m\n",
            "\u001b[0;32m/usr/local/lib/python3.10/dist-packages/pandas/core/indexing.py\u001b[0m in \u001b[0;36m__getitem__\u001b[0;34m(self, key)\u001b[0m\n\u001b[1;32m   1094\u001b[0m             \u001b[0mkey\u001b[0m \u001b[0;34m=\u001b[0m \u001b[0mtuple\u001b[0m\u001b[0;34m(\u001b[0m\u001b[0mcom\u001b[0m\u001b[0;34m.\u001b[0m\u001b[0mapply_if_callable\u001b[0m\u001b[0;34m(\u001b[0m\u001b[0mx\u001b[0m\u001b[0;34m,\u001b[0m \u001b[0mself\u001b[0m\u001b[0;34m.\u001b[0m\u001b[0mobj\u001b[0m\u001b[0;34m)\u001b[0m \u001b[0;32mfor\u001b[0m \u001b[0mx\u001b[0m \u001b[0;32min\u001b[0m \u001b[0mkey\u001b[0m\u001b[0;34m)\u001b[0m\u001b[0;34m\u001b[0m\u001b[0;34m\u001b[0m\u001b[0m\n\u001b[1;32m   1095\u001b[0m             \u001b[0;32mif\u001b[0m \u001b[0mself\u001b[0m\u001b[0;34m.\u001b[0m\u001b[0m_is_scalar_access\u001b[0m\u001b[0;34m(\u001b[0m\u001b[0mkey\u001b[0m\u001b[0;34m)\u001b[0m\u001b[0;34m:\u001b[0m\u001b[0;34m\u001b[0m\u001b[0;34m\u001b[0m\u001b[0m\n\u001b[0;32m-> 1096\u001b[0;31m                 \u001b[0;32mreturn\u001b[0m \u001b[0mself\u001b[0m\u001b[0;34m.\u001b[0m\u001b[0mobj\u001b[0m\u001b[0;34m.\u001b[0m\u001b[0m_get_value\u001b[0m\u001b[0;34m(\u001b[0m\u001b[0;34m*\u001b[0m\u001b[0mkey\u001b[0m\u001b[0;34m,\u001b[0m \u001b[0mtakeable\u001b[0m\u001b[0;34m=\u001b[0m\u001b[0mself\u001b[0m\u001b[0;34m.\u001b[0m\u001b[0m_takeable\u001b[0m\u001b[0;34m)\u001b[0m\u001b[0;34m\u001b[0m\u001b[0;34m\u001b[0m\u001b[0m\n\u001b[0m\u001b[1;32m   1097\u001b[0m             \u001b[0;32mreturn\u001b[0m \u001b[0mself\u001b[0m\u001b[0;34m.\u001b[0m\u001b[0m_getitem_tuple\u001b[0m\u001b[0;34m(\u001b[0m\u001b[0mkey\u001b[0m\u001b[0;34m)\u001b[0m\u001b[0;34m\u001b[0m\u001b[0;34m\u001b[0m\u001b[0m\n\u001b[1;32m   1098\u001b[0m         \u001b[0;32melse\u001b[0m\u001b[0;34m:\u001b[0m\u001b[0;34m\u001b[0m\u001b[0;34m\u001b[0m\u001b[0m\n",
            "\u001b[0;32m/usr/local/lib/python3.10/dist-packages/pandas/core/frame.py\u001b[0m in \u001b[0;36m_get_value\u001b[0;34m(self, index, col, takeable)\u001b[0m\n\u001b[1;32m   3866\u001b[0m         \u001b[0;32mif\u001b[0m \u001b[0mtakeable\u001b[0m\u001b[0;34m:\u001b[0m\u001b[0;34m\u001b[0m\u001b[0;34m\u001b[0m\u001b[0m\n\u001b[1;32m   3867\u001b[0m             \u001b[0mseries\u001b[0m \u001b[0;34m=\u001b[0m \u001b[0mself\u001b[0m\u001b[0;34m.\u001b[0m\u001b[0m_ixs\u001b[0m\u001b[0;34m(\u001b[0m\u001b[0mcol\u001b[0m\u001b[0;34m,\u001b[0m \u001b[0maxis\u001b[0m\u001b[0;34m=\u001b[0m\u001b[0;36m1\u001b[0m\u001b[0;34m)\u001b[0m\u001b[0;34m\u001b[0m\u001b[0;34m\u001b[0m\u001b[0m\n\u001b[0;32m-> 3868\u001b[0;31m             \u001b[0;32mreturn\u001b[0m \u001b[0mseries\u001b[0m\u001b[0;34m.\u001b[0m\u001b[0m_values\u001b[0m\u001b[0;34m[\u001b[0m\u001b[0mindex\u001b[0m\u001b[0;34m]\u001b[0m\u001b[0;34m\u001b[0m\u001b[0;34m\u001b[0m\u001b[0m\n\u001b[0m\u001b[1;32m   3869\u001b[0m \u001b[0;34m\u001b[0m\u001b[0m\n\u001b[1;32m   3870\u001b[0m         \u001b[0mseries\u001b[0m \u001b[0;34m=\u001b[0m \u001b[0mself\u001b[0m\u001b[0;34m.\u001b[0m\u001b[0m_get_item_cache\u001b[0m\u001b[0;34m(\u001b[0m\u001b[0mcol\u001b[0m\u001b[0;34m)\u001b[0m\u001b[0;34m\u001b[0m\u001b[0;34m\u001b[0m\u001b[0m\n",
            "\u001b[0;31mIndexError\u001b[0m: index 1 is out of bounds for axis 0 with size 1"
          ]
        }
      ]
    },
    {
      "cell_type": "markdown",
      "source": [
        "Normalized"
      ],
      "metadata": {
        "id": "VvgFYvZv8cW3"
      }
    },
    {
      "cell_type": "code",
      "source": [
        "from sklearn.neighbors import KNeighborsClassifier\n",
        "\n",
        "X_train = X_maxmin_train.drop(\"TenYearCHD\", axis=1)\n",
        "X_test = X_maxmin_test.drop(\"TenYearCHD\", axis=1)\n",
        "y_train = train_df[\"TenYearCHD\"]\n",
        "y_test = test_df[\"TenYearCHD\"]\n",
        "\n",
        "N_train = len(y_train)\n",
        "N_test = len(y_test)\n",
        "\n",
        "k_test = np.arange(1,150)\n",
        "Acc = np.zeros(150)\n",
        "\n",
        "for k in range(150):\n",
        "    fitted_model = KNeighborsClassifier(n_neighbors=k+1).fit(X_train.values, y_train)\n",
        "    y_hat = fitted_model.predict(X_test.values)\n",
        "    Acc[k] = np.sum( y_hat == y_test )/N_test\n",
        "\n",
        "Acc_max = np.max(Acc)\n",
        "max_index = np.where(Acc == Acc_max)[0]\n",
        "k_star = max_index[0] + 1\n",
        "print(\"The optimal k-value is:\", k_star)"
      ],
      "metadata": {
        "colab": {
          "base_uri": "https://localhost:8080/"
        },
        "id": "1rJmrUc6n2bY",
        "outputId": "7dcf9716-7860-4a58-d15c-e451423acf0c"
      },
      "execution_count": 10,
      "outputs": [
        {
          "output_type": "stream",
          "name": "stdout",
          "text": [
            "The optimal k-value is: 11\n"
          ]
        }
      ]
    },
    {
      "cell_type": "code",
      "source": [
        "model = KNeighborsClassifier(n_neighbors=11).fit(X_train, y_train)\n",
        "y_hat = model.predict(X_test)\n",
        "accuracy = np.sum( y_hat == y_test )/N_test\n",
        "print(\"The highest recorded accuracy is: \", accuracy)"
      ],
      "metadata": {
        "colab": {
          "base_uri": "https://localhost:8080/"
        },
        "id": "nCEEmypvpL2_",
        "outputId": "69c13fec-78d1-47a1-8dda-011971bf9d5c"
      },
      "execution_count": 11,
      "outputs": [
        {
          "output_type": "stream",
          "name": "stdout",
          "text": [
            "The highest recorded accuracy is:  0.8548076923076923\n"
          ]
        }
      ]
    },
    {
      "cell_type": "code",
      "source": [
        "accuracy = accuracy_score(y_test, y_hat)\n",
        "conf_matrix = confusion_matrix(y_test, y_hat)\n",
        "\n",
        "print(f\"Accuracy: {accuracy}\")\n",
        "print(f\"Confusion Matrix:\\n{conf_matrix}\")\n"
      ],
      "metadata": {
        "colab": {
          "base_uri": "https://localhost:8080/"
        },
        "id": "rYUCTGDQqOCn",
        "outputId": "ca6ce88c-943d-46cd-ed9f-ddd404959f37"
      },
      "execution_count": 12,
      "outputs": [
        {
          "output_type": "stream",
          "name": "stdout",
          "text": [
            "Accuracy: 0.8548076923076923\n",
            "Confusion Matrix:\n",
            "[[878  11]\n",
            " [140  11]]\n"
          ]
        }
      ]
    },
    {
      "cell_type": "code",
      "source": [
        "def performance(y_test,y_hat): # Sample code to compute classifier performance\n",
        "    tab = pd.crosstab(np.array(y_hat),np.array(y_test)) # Compute confusion matrix\n",
        "    #\n",
        "    # Get entries from the confusion matrix:\n",
        "    tp = tab.iloc[0,0]\n",
        "    tn = tab.iloc[1,1]\n",
        "    fp = tab.iloc[0,1]\n",
        "    fn = tab.iloc[1,0]\n",
        "    tot = tp+tn+fp+fn\n",
        "    #\n",
        "    # Compute performance statistics:\n",
        "    acc = (tp+tn)/tot\n",
        "    spec = tn/(tp+fn)\n",
        "    sens = tp/(tp+fn)\n",
        "    mcc = (tp*tn-fp*fn)/np.sqrt((tp+fp)*(tp+fn)*(tn+fp)*(tn+fn))\n",
        "    #\n",
        "    # Return a dictionary including the confusion matrix and metrics:\n",
        "    return({'confusion_matrix':tab,\n",
        "            'accuracy':acc,\n",
        "            'specificity':spec,\n",
        "            'sensitivity':sens,\n",
        "            'mcc':mcc})\n",
        "\n",
        "print(performance(y_test, y_hat))"
      ],
      "metadata": {
        "id": "FJIMik2w3Nsw",
        "outputId": "5630bcfc-fdea-4dec-c507-fee7954adfd2",
        "colab": {
          "base_uri": "https://localhost:8080/"
        }
      },
      "execution_count": 13,
      "outputs": [
        {
          "output_type": "stream",
          "name": "stdout",
          "text": [
            "{'confusion_matrix': col_0    0    1\n",
            "row_0          \n",
            "0      878  140\n",
            "1       11   11, 'accuracy': 0.8548076923076923, 'specificity': 0.012373453318335208, 'sensitivity': 0.9876265466816648, 'mcc': 0.14805547209346345}\n"
          ]
        }
      ]
    }
  ]
}