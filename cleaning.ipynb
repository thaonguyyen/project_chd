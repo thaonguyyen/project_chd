{
  "nbformat": 4,
  "nbformat_minor": 0,
  "metadata": {
    "colab": {
      "provenance": [],
      "include_colab_link": true
    },
    "kernelspec": {
      "name": "python3",
      "display_name": "Python 3"
    },
    "language_info": {
      "name": "python"
    }
  },
  "cells": [
    {
      "cell_type": "markdown",
      "metadata": {
        "id": "view-in-github",
        "colab_type": "text"
      },
      "source": [
        "<a href=\"https://colab.research.google.com/github/thaonguyyen/project_chd/blob/main/cleaning.ipynb\" target=\"_parent\"><img src=\"https://colab.research.google.com/assets/colab-badge.svg\" alt=\"Open In Colab\"/></a>"
      ]
    },
    {
      "cell_type": "markdown",
      "source": [
        "Import libraries:"
      ],
      "metadata": {
        "id": "I_F9Oh4wXD7E"
      }
    },
    {
      "cell_type": "code",
      "source": [
        "import pandas as pd\n",
        "import numpy as np\n",
        "import matplotlib.pyplot as plt\n",
        "\n",
        "from sklearn.pipeline import Pipeline\n",
        "from sklearn.base import BaseEstimator, TransformerMixin"
      ],
      "metadata": {
        "id": "Fye5h_yfXCE7"
      },
      "execution_count": null,
      "outputs": []
    },
    {
      "cell_type": "markdown",
      "source": [
        "Read in csv files:"
      ],
      "metadata": {
        "id": "EbITmmBFW2kH"
      }
    },
    {
      "cell_type": "code",
      "execution_count": null,
      "metadata": {
        "id": "zVZSksPLWjp3"
      },
      "outputs": [],
      "source": [
        "train_url = 'https://raw.githubusercontent.com/thaonguyyen/project_chd/main/fhs_train.csv'\n",
        "test_url = 'https://raw.githubusercontent.com/thaonguyyen/project_chd/main/fhs_test.csv'\n",
        "\n",
        "train_df = pd.read_csv(train_url)\n",
        "test_df = pd.read_csv(test_url)"
      ]
    },
    {
      "cell_type": "markdown",
      "source": [
        "Cleaning train dataset:"
      ],
      "metadata": {
        "id": "GC6SFWCEY0Th"
      }
    },
    {
      "cell_type": "code",
      "source": [
        "nan_columns = train_df.isnull().sum()\n",
        "nan_columns"
      ],
      "metadata": {
        "id": "M041yRYibP9j",
        "outputId": "0901d02b-bfc8-48b8-c535-20bfd5a9cbf7",
        "colab": {
          "base_uri": "https://localhost:8080/"
        }
      },
      "execution_count": null,
      "outputs": [
        {
          "output_type": "execute_result",
          "data": {
            "text/plain": [
              "Unnamed: 0           0\n",
              "sex                  0\n",
              "age                  0\n",
              "education           85\n",
              "currentSmoker        0\n",
              "cigsPerDay          24\n",
              "BPMeds              37\n",
              "prevalentStroke      0\n",
              "prevalentHyp         0\n",
              "diabetes             0\n",
              "totChol             39\n",
              "sysBP                0\n",
              "diaBP                0\n",
              "BMI                 15\n",
              "heartRate            0\n",
              "glucose            285\n",
              "TenYearCHD           0\n",
              "dtype: int64"
            ]
          },
          "metadata": {},
          "execution_count": 17
        }
      ]
    },
    {
      "cell_type": "code",
      "source": [
        "train_df.shape"
      ],
      "metadata": {
        "colab": {
          "base_uri": "https://localhost:8080/"
        },
        "id": "c8coidJKcjiE",
        "outputId": "0567c675-cf03-4a82-c065-e6bd6c15aff2"
      },
      "execution_count": null,
      "outputs": [
        {
          "output_type": "execute_result",
          "data": {
            "text/plain": [
              "(3180, 17)"
            ]
          },
          "metadata": {},
          "execution_count": 18
        }
      ]
    },
    {
      "cell_type": "code",
      "source": [
        "class fillNA(BaseEstimator, TransformerMixin):\n",
        "    def __init__(self, column, value):\n",
        "        self.column = column\n",
        "        self.value = value\n",
        "\n",
        "    def fit(self, X, y=None):\n",
        "        return self\n",
        "\n",
        "    def transform(self, X):\n",
        "        X[self.column] = X[self.column].fillna(self.value)\n",
        "        return X\n",
        "\n",
        "class dropNA(BaseEstimator, TransformerMixin):\n",
        "    def __init__(self, column):\n",
        "        self.column = column\n",
        "\n",
        "    def fit(self, X, y=None):\n",
        "        return self\n",
        "\n",
        "    def transform(self, X):\n",
        "        X.dropna(subset=[self.column], inplace=True)\n",
        "        return X\n",
        "\n",
        "# Define pipeline steps for each column\n",
        "pipeline_steps = [\n",
        "    # replace NAs with 0 in education to keep it numerical\n",
        "    ('fill_education', fillNA(column='education', value=0)),\n",
        "    # adjust NAs for glucose to the avg\n",
        "    ('fill_glucose', fillNA(column='glucose', value=85)),\n",
        "    # replace NAs with 0 for BPMeds = not taking\n",
        "    ('fill_BPMeds', fillNA(column='BPMeds', value=0)),\n",
        "    # drop NAs for totChol, BMI, and cigsPerDay\n",
        "    ('drop_totChol', dropNA(column='totChol')),\n",
        "    ('drop_BMI', dropNA(column='BMI')),\n",
        "    ('drop_cigsPerDay', dropNA(column='cigsPerDay'))\n",
        "]\n",
        "\n",
        "pipeline = Pipeline(steps=pipeline_steps)\n",
        "\n",
        "train_df = pipeline.fit_transform(train_df)\n",
        "test_df = pipeline.fit_transform(test_df)"
      ],
      "metadata": {
        "id": "bXitaOvNdnBo"
      },
      "execution_count": null,
      "outputs": []
    },
    {
      "cell_type": "markdown",
      "source": [
        "Save cleaned datasets into csv file:"
      ],
      "metadata": {
        "id": "li9TcaNIfBgG"
      }
    },
    {
      "cell_type": "code",
      "source": [
        "train_df.to_csv(\"cleaned_train_data.csv\", encoding = 'utf-8')\n",
        "cleaned_train_df = pd.read_csv(\"cleaned_train_data.csv\")\n",
        "\n",
        "test_df.to_csv(\"cleaned_test_data.csv\", encoding = 'utf-8')\n",
        "cleaned_test_df = pd.read_csv(\"cleaned_test_data.csv\")"
      ],
      "metadata": {
        "id": "c1uVkP1dfDTQ"
      },
      "execution_count": null,
      "outputs": []
    },
    {
      "cell_type": "code",
      "source": [
        "from google.colab import files\n",
        "files.download('cleaned_train_data.csv')\n",
        "files.download('cleaned_test_data.csv')"
      ],
      "metadata": {
        "colab": {
          "base_uri": "https://localhost:8080/",
          "height": 17
        },
        "id": "_WYLh9XrfRIs",
        "outputId": "9b2ad7ca-f8aa-420f-9f10-551cadd292c5"
      },
      "execution_count": null,
      "outputs": [
        {
          "output_type": "display_data",
          "data": {
            "text/plain": [
              "<IPython.core.display.Javascript object>"
            ],
            "application/javascript": [
              "\n",
              "    async function download(id, filename, size) {\n",
              "      if (!google.colab.kernel.accessAllowed) {\n",
              "        return;\n",
              "      }\n",
              "      const div = document.createElement('div');\n",
              "      const label = document.createElement('label');\n",
              "      label.textContent = `Downloading \"${filename}\": `;\n",
              "      div.appendChild(label);\n",
              "      const progress = document.createElement('progress');\n",
              "      progress.max = size;\n",
              "      div.appendChild(progress);\n",
              "      document.body.appendChild(div);\n",
              "\n",
              "      const buffers = [];\n",
              "      let downloaded = 0;\n",
              "\n",
              "      const channel = await google.colab.kernel.comms.open(id);\n",
              "      // Send a message to notify the kernel that we're ready.\n",
              "      channel.send({})\n",
              "\n",
              "      for await (const message of channel.messages) {\n",
              "        // Send a message to notify the kernel that we're ready.\n",
              "        channel.send({})\n",
              "        if (message.buffers) {\n",
              "          for (const buffer of message.buffers) {\n",
              "            buffers.push(buffer);\n",
              "            downloaded += buffer.byteLength;\n",
              "            progress.value = downloaded;\n",
              "          }\n",
              "        }\n",
              "      }\n",
              "      const blob = new Blob(buffers, {type: 'application/binary'});\n",
              "      const a = document.createElement('a');\n",
              "      a.href = window.URL.createObjectURL(blob);\n",
              "      a.download = filename;\n",
              "      div.appendChild(a);\n",
              "      a.click();\n",
              "      div.remove();\n",
              "    }\n",
              "  "
            ]
          },
          "metadata": {}
        },
        {
          "output_type": "display_data",
          "data": {
            "text/plain": [
              "<IPython.core.display.Javascript object>"
            ],
            "application/javascript": [
              "download(\"download_d0035951-f685-41c7-8fac-2359a275924e\", \"cleaned_train_data.csv\", 210686)"
            ]
          },
          "metadata": {}
        },
        {
          "output_type": "display_data",
          "data": {
            "text/plain": [
              "<IPython.core.display.Javascript object>"
            ],
            "application/javascript": [
              "\n",
              "    async function download(id, filename, size) {\n",
              "      if (!google.colab.kernel.accessAllowed) {\n",
              "        return;\n",
              "      }\n",
              "      const div = document.createElement('div');\n",
              "      const label = document.createElement('label');\n",
              "      label.textContent = `Downloading \"${filename}\": `;\n",
              "      div.appendChild(label);\n",
              "      const progress = document.createElement('progress');\n",
              "      progress.max = size;\n",
              "      div.appendChild(progress);\n",
              "      document.body.appendChild(div);\n",
              "\n",
              "      const buffers = [];\n",
              "      let downloaded = 0;\n",
              "\n",
              "      const channel = await google.colab.kernel.comms.open(id);\n",
              "      // Send a message to notify the kernel that we're ready.\n",
              "      channel.send({})\n",
              "\n",
              "      for await (const message of channel.messages) {\n",
              "        // Send a message to notify the kernel that we're ready.\n",
              "        channel.send({})\n",
              "        if (message.buffers) {\n",
              "          for (const buffer of message.buffers) {\n",
              "            buffers.push(buffer);\n",
              "            downloaded += buffer.byteLength;\n",
              "            progress.value = downloaded;\n",
              "          }\n",
              "        }\n",
              "      }\n",
              "      const blob = new Blob(buffers, {type: 'application/binary'});\n",
              "      const a = document.createElement('a');\n",
              "      a.href = window.URL.createObjectURL(blob);\n",
              "      a.download = filename;\n",
              "      div.appendChild(a);\n",
              "      a.click();\n",
              "      div.remove();\n",
              "    }\n",
              "  "
            ]
          },
          "metadata": {}
        },
        {
          "output_type": "display_data",
          "data": {
            "text/plain": [
              "<IPython.core.display.Javascript object>"
            ],
            "application/javascript": [
              "download(\"download_18a3e1c3-4606-46d1-830b-7b45db66ed15\", \"cleaned_test_data.csv\", 72176)"
            ]
          },
          "metadata": {}
        }
      ]
    }
  ]
}